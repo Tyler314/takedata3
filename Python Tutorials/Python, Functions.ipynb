{
 "cells": [
  {
   "cell_type": "markdown",
   "metadata": {
    "nbpresent": {
     "id": "827bd859-73b3-4529-bb8b-62b0a55d1e3d"
    }
   },
   "source": [
    "<big><h1 align=\"center\"> Python: Functions</h1></big>\n",
    "<h2 align=\"center\">by Tyler Roberts - tjroberts2@wisc.edu</h2>"
   ]
  },
  {
   "cell_type": "markdown",
   "metadata": {
    "nbpresent": {
     "id": "16d7589e-a576-424f-9ac6-cf41ab3bfcc4"
    }
   },
   "source": [
    "# Functions\n",
    "- A function is a section of code that carries out a particular task.\n",
    "- It’s a black box, it takes in arguments, and either manipulates some data and returns None, or creates some data and returns it (or both).\n"
   ]
  },
  {
   "cell_type": "code",
   "execution_count": null,
   "metadata": {
    "collapsed": false,
    "nbpresent": {
     "id": "b2a0fe6c-55fc-4641-8357-5be61b5a4afa"
    }
   },
   "outputs": [],
   "source": [
    "# arguments: arg1, arg2. Can have 0 to infinity\n",
    "def func(arg1, arg2):    # Function body, y is defined inside the SCOPE \n",
    "    y = arg1 + arg2      # of the function, y is only seen within the function.\n",
    "    y *= 2\n",
    "    return y\n",
    "\n",
    "derp = func(3,4)\n",
    "\n"
   ]
  },
  {
   "cell_type": "markdown",
   "metadata": {
    "nbpresent": {
     "id": "d0391a3d-eadb-4336-a6de-59c3b848fc68"
    }
   },
   "source": [
    "# Functions, Scope, and Return Values\n",
    "-  When passing primitives into a function, a copy of the variable is made. (Pass by Value)\n",
    "- When passing anything else, the function is manipulating the variable directly. (Pass by reference)\n",
    "- Functions don't need to return anything, they also don't need any arguments."
   ]
  },
  {
   "cell_type": "code",
   "execution_count": null,
   "metadata": {
    "collapsed": false,
    "nbpresent": {
     "id": "58d58cc4-e6a7-48d5-a596-3e7e20d5667b"
    }
   },
   "outputs": [],
   "source": [
    "def derp():\n",
    "    print('Hello, Kitty!')\n",
    "    return 2\n",
    "\n",
    "def extendList(someList):\n",
    "    x = [ derp()**i for i in range(10)]\n",
    "    someList.extend(x)"
   ]
  },
  {
   "cell_type": "markdown",
   "metadata": {
    "nbpresent": {
     "id": "f6d55c0c-679f-4750-8a6d-da2fef66a635"
    }
   },
   "source": [
    "# Function Arguments\n",
    "- By default, when calling a function, the arguments you pass in are in the same order as they are defined. But you can specify which arguments are which."
   ]
  },
  {
   "cell_type": "code",
   "execution_count": null,
   "metadata": {
    "collapsed": false,
    "nbpresent": {
     "id": "626e5d29-7476-4020-8adf-a291484c8599"
    }
   },
   "outputs": [],
   "source": [
    "def spam(x,y,z):\n",
    "    return (x + y) * z\n",
    "\n",
    "x0 = spam(3, 7, 10)\n",
    "x1 = spam(z=3, x=7, y=10)\n",
    "\n",
    "def eggs(x, y, z=10):\n",
    "    return (x + y) * z\n",
    "\n",
    "y0 = eggs(3, 7, 5)\n",
    "y1 = eggs(3, 7)"
   ]
  },
  {
   "cell_type": "markdown",
   "metadata": {
    "nbpresent": {
     "id": "a1d189f6-a2b7-4c09-9f25-fbd8bc03ffac"
    }
   },
   "source": [
    "# *args and **kwargs\n",
    "- *args: Allows you to enter an arbitrary number of arguments."
   ]
  },
  {
   "cell_type": "code",
   "execution_count": null,
   "metadata": {
    "collapsed": false,
    "nbpresent": {
     "id": "50512ed3-d9d1-4ee3-baed-17574809ce69"
    }
   },
   "outputs": [],
   "source": [
    "def appendItems(listy, *args):\n",
    "    for item in args:\n",
    "        listy.append(item)\n",
    "        \n",
    "x = [1, 2, 3]\n",
    "appendItems(x, 'a', 'b', 'c')\n",
    "appendItems(x, 'derp')"
   ]
  },
  {
   "cell_type": "markdown",
   "metadata": {
    "nbpresent": {
     "id": "3084b4ac-8129-4abf-918c-b50e5564abc7"
    }
   },
   "source": [
    "- **kwargs: Allows you to enter arbitrary number of arguments with a keyword mapping, like a dictionary. (kw = keyword)"
   ]
  },
  {
   "cell_type": "code",
   "execution_count": null,
   "metadata": {
    "collapsed": false,
    "nbpresent": {
     "id": "207616f0-4636-4469-adce-ee1e40e84d5f"
    }
   },
   "outputs": [],
   "source": [
    "def appendDict(d, **kwargs):\n",
    "    for key in kwargs.keys():\n",
    "        d[key] = kwargs[key]\n",
    "    for key, value in kwargs.items():\n",
    "        print('{} --> {}'.format(key, value))\n",
    "        \n",
    "x = {'name': 'Plasma'}\n",
    "appendDict(x, age=25, color='Purple') # Note that keywords are not entered as strings,\n",
    "                                      # and must be characters"
   ]
  },
  {
   "cell_type": "markdown",
   "metadata": {
    "nbpresent": {
     "id": "3c2092ef-1e4e-400d-aa39-cfa444ef927a"
    }
   },
   "source": [
    "# Return Values\n",
    "- You are able to return multiple variables in a function.\n",
    "- This is called packing & unpacking the variables.\n",
    "- Multiple return values are returned as a Tuple."
   ]
  },
  {
   "cell_type": "code",
   "execution_count": null,
   "metadata": {
    "collapsed": false,
    "nbpresent": {
     "id": "4c485826-8e83-4334-9171-acdb920d29a6"
    }
   },
   "outputs": [],
   "source": [
    "def foo():\n",
    "    return 7, 'hello', [1,2,3]\n",
    "\n",
    "x = foo()\n",
    "a, b, c = foo() # Unpacking the return values"
   ]
  },
  {
   "cell_type": "markdown",
   "metadata": {
    "nbpresent": {
     "id": "38cd17b3-3549-4751-8dd8-021377ef0e46"
    }
   },
   "source": [
    "# Docstrings\n",
    "- Used to document your functions, describes what the function does and what it returns.\n",
    "- Proceeds immediately after the function declarations, and is surrounded by triple quotes.\n",
    "- Can use help() on your function to access the docstrings."
   ]
  },
  {
   "cell_type": "code",
   "execution_count": null,
   "metadata": {
    "collapsed": false,
    "nbpresent": {
     "id": "3d989c5e-d9f1-4da4-bd21-4071747aca22"
    }
   },
   "outputs": [],
   "source": [
    "def pow(a,b):\n",
    "    \"\"\"Takes in the arguments a & b, and raises the number a to the power b.\n",
    "       Returns the result.\"\"\"\n",
    "    return a**b\n",
    "\n",
    "help(pow)"
   ]
  },
  {
   "cell_type": "markdown",
   "metadata": {
    "nbpresent": {
     "id": "a88d3af2-6cb0-41af-89c2-11193d12d29a"
    }
   },
   "source": [
    "# Scope\n",
    "- LEGB Rule\n",
    "    - L \\- Local\n",
    "    - E \\- Enclosing\n",
    "    - G \\- Global\n",
    "    - B \\- Built\\-In\n",
    " \n",
    "## 3 Simple Rules\n",
    "1. Name assignments create or change local names by default.\n",
    "\n",
    "2. Name references search at most four scoped: local, then enclosing (defs inside defs, if\n",
    "any), then global, then built-in.\n",
    "\n",
    "3. Names declared in global and nonlocal statement, allow you to change global and enclosing\n",
    "variables, respectively.\n"
   ]
  },
  {
   "cell_type": "markdown",
   "metadata": {
    "nbpresent": {
     "id": "935cda66-67c5-49db-afc5-2012229100ec"
    }
   },
   "source": [
    "# Scope Examples"
   ]
  },
  {
   "cell_type": "code",
   "execution_count": null,
   "metadata": {
    "collapsed": true,
    "nbpresent": {
     "id": "a2786cc2-cd72-45fc-bdca-d5a0718e817e"
    }
   },
   "outputs": [],
   "source": [
    "x = 5\n",
    "\n",
    "def f():\n",
    "    x = 7\n",
    "    print(x)\n",
    "    \n",
    "def g():\n",
    "    print(x)"
   ]
  },
  {
   "cell_type": "code",
   "execution_count": null,
   "metadata": {
    "collapsed": true,
    "nbpresent": {
     "id": "7c911903-45ad-4192-b083-549ac70ec3d8"
    }
   },
   "outputs": [],
   "source": [
    "h = [1,2,3]\n",
    "\n",
    "def f():\n",
    "    h = ['a', 'b', 'c']\n",
    "    h.append(7)\n",
    "    \n",
    "def g():\n",
    "    h.append(7)\n",
    "    "
   ]
  },
  {
   "cell_type": "code",
   "execution_count": null,
   "metadata": {
    "collapsed": true,
    "nbpresent": {
     "id": "e7605ebb-dc53-490a-8ce3-c642087eb802"
    }
   },
   "outputs": [],
   "source": [
    "x = 7\n",
    "h = [1,2,3]\n",
    "\n",
    "def f():\n",
    "    x += 1\n",
    "    \n",
    "def g():\n",
    "    global x\n",
    "    x += 1\n",
    "    \n",
    "def h():\n",
    "    global h\n",
    "    h = ['a', 'b', 'c']"
   ]
  },
  {
   "cell_type": "code",
   "execution_count": 3,
   "metadata": {
    "collapsed": true,
    "nbpresent": {
     "id": "cb948c59-5701-4f55-aac4-4d43454cae79"
    }
   },
   "outputs": [],
   "source": [
    "def f():\n",
    "    x = 5\n",
    "    def g():\n",
    "        def h():\n",
    "            x = 17\n",
    "        h()\n",
    "        print(x)\n",
    "    g()\n",
    "    \n",
    "def z():\n",
    "    x = 7\n",
    "    def y():\n",
    "        nonlocal x\n",
    "        x += 3\n",
    "    y()\n",
    "        "
   ]
  },
  {
   "cell_type": "code",
   "execution_count": 4,
   "metadata": {
    "collapsed": false,
    "nbpresent": {
     "id": "b58a5cca-8244-4bdf-af9f-c5637f5847a7"
    }
   },
   "outputs": [
    {
     "name": "stdout",
     "output_type": "stream",
     "text": [
      "5\n"
     ]
    }
   ],
   "source": [
    "f()"
   ]
  },
  {
   "cell_type": "code",
   "execution_count": null,
   "metadata": {
    "collapsed": true
   },
   "outputs": [],
   "source": []
  }
 ],
 "metadata": {
  "anaconda-cloud": {},
  "kernelspec": {
   "display_name": "Python [Root]",
   "language": "python",
   "name": "Python [Root]"
  },
  "language_info": {
   "codemirror_mode": {
    "name": "ipython",
    "version": 3
   },
   "file_extension": ".py",
   "mimetype": "text/x-python",
   "name": "python",
   "nbconvert_exporter": "python",
   "pygments_lexer": "ipython3",
   "version": "3.5.2"
  },
  "nbpresent": {
   "slides": {
    "09c9c697-11c2-4804-bb47-de227bb261c2": {
     "id": "09c9c697-11c2-4804-bb47-de227bb261c2",
     "prev": "e82d3ac0-f80a-4b7a-8373-93ded9375d25",
     "regions": {
      "4327bcfc-79cc-4f52-b83a-785142156d64": {
       "attrs": {
        "height": 0.8,
        "width": 0.8,
        "x": 0.1,
        "y": 0.1
       },
       "content": {
        "cell": "a88d3af2-6cb0-41af-89c2-11193d12d29a",
        "part": "whole"
       },
       "id": "4327bcfc-79cc-4f52-b83a-785142156d64"
      }
     }
    },
    "18054ea8-abe5-4d4b-b8e5-e876ffda68d6": {
     "id": "18054ea8-abe5-4d4b-b8e5-e876ffda68d6",
     "prev": "44042a76-ffa2-45a9-bcad-d0e90b828381",
     "regions": {
      "1a0f8625-e1c3-4ada-9bf3-84130ccd170f": {
       "attrs": {
        "height": 0.8,
        "width": 0.8,
        "x": 0.1,
        "y": 0.1
       },
       "content": {
        "cell": "16d7589e-a576-424f-9ac6-cf41ab3bfcc4",
        "part": "whole"
       },
       "id": "1a0f8625-e1c3-4ada-9bf3-84130ccd170f"
      }
     }
    },
    "1ce5edbf-7019-46a2-a4d3-6e37dfa2257e": {
     "id": "1ce5edbf-7019-46a2-a4d3-6e37dfa2257e",
     "prev": "2c2eedee-f103-437a-85e6-53c1b383b050",
     "regions": {
      "dea8b357-6133-4b37-ae83-8e5c57fbc477": {
       "attrs": {
        "height": 0.8,
        "width": 0.8,
        "x": 0.1,
        "y": 0.1
       },
       "content": {
        "cell": "a2786cc2-cd72-45fc-bdca-d5a0718e817e",
        "part": "whole"
       },
       "id": "dea8b357-6133-4b37-ae83-8e5c57fbc477"
      }
     }
    },
    "2c2eedee-f103-437a-85e6-53c1b383b050": {
     "id": "2c2eedee-f103-437a-85e6-53c1b383b050",
     "prev": "09c9c697-11c2-4804-bb47-de227bb261c2",
     "regions": {
      "80221043-152b-4fe9-996e-4d3ddb50a872": {
       "attrs": {
        "height": 0.8,
        "width": 0.8,
        "x": 0.1,
        "y": 0.1
       },
       "content": {
        "cell": "935cda66-67c5-49db-afc5-2012229100ec",
        "part": "whole"
       },
       "id": "80221043-152b-4fe9-996e-4d3ddb50a872"
      }
     }
    },
    "44042a76-ffa2-45a9-bcad-d0e90b828381": {
     "id": "44042a76-ffa2-45a9-bcad-d0e90b828381",
     "prev": null,
     "regions": {
      "9c120ead-ee2e-46c2-832a-d26431770d80": {
       "attrs": {
        "height": 0.8,
        "width": 0.8,
        "x": 0.1,
        "y": 0.1
       },
       "content": {
        "cell": "827bd859-73b3-4529-bb8b-62b0a55d1e3d",
        "part": "whole"
       },
       "id": "9c120ead-ee2e-46c2-832a-d26431770d80"
      }
     }
    },
    "48176a51-1cff-45d2-a647-3341a0d49354": {
     "id": "48176a51-1cff-45d2-a647-3341a0d49354",
     "prev": "5981d7d4-55c5-488d-914b-07491046aacf",
     "regions": {
      "52f09beb-b10a-4991-9fd5-92aae96b5011": {
       "attrs": {
        "height": 0.8,
        "width": 0.8,
        "x": 0.1,
        "y": 0.1
       },
       "content": {
        "cell": "cb948c59-5701-4f55-aac4-4d43454cae79",
        "part": "whole"
       },
       "id": "52f09beb-b10a-4991-9fd5-92aae96b5011"
      }
     }
    },
    "50ac0fe7-77c0-4350-b613-8176a00fa7de": {
     "id": "50ac0fe7-77c0-4350-b613-8176a00fa7de",
     "prev": "b6097dd4-0481-422f-b5ec-a44386b779fc",
     "regions": {
      "3402895b-2132-4d30-8e9b-709c32bfbb6f": {
       "attrs": {
        "height": 0.8,
        "width": 0.8,
        "x": 0.1,
        "y": 0.1
       },
       "content": {
        "cell": "f6d55c0c-679f-4750-8a6d-da2fef66a635",
        "part": "whole"
       },
       "id": "3402895b-2132-4d30-8e9b-709c32bfbb6f"
      }
     }
    },
    "5981d7d4-55c5-488d-914b-07491046aacf": {
     "id": "5981d7d4-55c5-488d-914b-07491046aacf",
     "prev": "645d236c-1966-4f20-b0bf-62f8d54c3b64",
     "regions": {
      "9a13ac5f-291a-488e-8fef-819ae4f111c3": {
       "attrs": {
        "height": 0.8,
        "width": 0.8,
        "x": 0.1,
        "y": 0.1
       },
       "content": {
        "cell": "e7605ebb-dc53-490a-8ce3-c642087eb802",
        "part": "whole"
       },
       "id": "9a13ac5f-291a-488e-8fef-819ae4f111c3"
      }
     }
    },
    "645d236c-1966-4f20-b0bf-62f8d54c3b64": {
     "id": "645d236c-1966-4f20-b0bf-62f8d54c3b64",
     "prev": "1ce5edbf-7019-46a2-a4d3-6e37dfa2257e",
     "regions": {
      "1bc5dcfa-71e5-4939-8dee-60a69dc0994c": {
       "attrs": {
        "height": 0.8,
        "width": 0.8,
        "x": 0.1,
        "y": 0.1
       },
       "content": {
        "cell": "7c911903-45ad-4192-b083-549ac70ec3d8",
        "part": "whole"
       },
       "id": "1bc5dcfa-71e5-4939-8dee-60a69dc0994c"
      }
     }
    },
    "73ed078b-79fa-4fb0-b617-2ef1a153dd08": {
     "id": "73ed078b-79fa-4fb0-b617-2ef1a153dd08",
     "prev": "8a75d0b2-c5f4-45af-820a-feb604ad3bff",
     "regions": {
      "598ce4ef-3430-40ea-befa-d9900a465b8a": {
       "attrs": {
        "height": 0.8,
        "width": 0.8,
        "x": 0.1,
        "y": 0.1
       },
       "content": {
        "cell": "207616f0-4636-4469-adce-ee1e40e84d5f",
        "part": "whole"
       },
       "id": "598ce4ef-3430-40ea-befa-d9900a465b8a"
      }
     }
    },
    "75d39d7f-81b0-491e-a112-a6576de1e8d6": {
     "id": "75d39d7f-81b0-491e-a112-a6576de1e8d6",
     "prev": "8e78a9b3-92d7-4029-bb52-4aa46fa17681",
     "regions": {
      "0773a688-c4e6-413e-a79d-932058c295ef": {
       "attrs": {
        "height": 0.8,
        "width": 0.8,
        "x": 0.1,
        "y": 0.1
       },
       "content": {
        "cell": "4c485826-8e83-4334-9171-acdb920d29a6",
        "part": "whole"
       },
       "id": "0773a688-c4e6-413e-a79d-932058c295ef"
      }
     }
    },
    "8a75d0b2-c5f4-45af-820a-feb604ad3bff": {
     "id": "8a75d0b2-c5f4-45af-820a-feb604ad3bff",
     "prev": "be2852ca-c14f-41c5-9773-f30722838a18",
     "regions": {
      "b0dc0a79-9b3a-408b-81a5-eb356cdaba77": {
       "attrs": {
        "height": 0.8,
        "width": 0.8,
        "x": 0.1,
        "y": 0.1
       },
       "content": {
        "cell": "3084b4ac-8129-4abf-918c-b50e5564abc7",
        "part": "whole"
       },
       "id": "b0dc0a79-9b3a-408b-81a5-eb356cdaba77"
      }
     }
    },
    "8e78a9b3-92d7-4029-bb52-4aa46fa17681": {
     "id": "8e78a9b3-92d7-4029-bb52-4aa46fa17681",
     "prev": "73ed078b-79fa-4fb0-b617-2ef1a153dd08",
     "regions": {
      "0ab5321d-bed5-4430-b5ad-f7c00b512667": {
       "attrs": {
        "height": 0.8,
        "width": 0.8,
        "x": 0.1,
        "y": 0.1
       },
       "content": {
        "cell": "3c2092ef-1e4e-400d-aa39-cfa444ef927a",
        "part": "whole"
       },
       "id": "0ab5321d-bed5-4430-b5ad-f7c00b512667"
      }
     }
    },
    "95a73e6c-2064-4bcf-8bc8-a5096d160525": {
     "id": "95a73e6c-2064-4bcf-8bc8-a5096d160525",
     "prev": "48176a51-1cff-45d2-a647-3341a0d49354",
     "regions": {
      "a6b4c8f8-b14c-4c6b-8bd5-6f15b24b88b8": {
       "attrs": {
        "height": 0.8,
        "width": 0.8,
        "x": 0.1,
        "y": 0.1
       },
       "content": {
        "cell": "b58a5cca-8244-4bdf-af9f-c5637f5847a7",
        "part": "whole"
       },
       "id": "a6b4c8f8-b14c-4c6b-8bd5-6f15b24b88b8"
      }
     }
    },
    "b6097dd4-0481-422f-b5ec-a44386b779fc": {
     "id": "b6097dd4-0481-422f-b5ec-a44386b779fc",
     "prev": "fa1d9c40-7a1c-4175-85d3-625a742405a0",
     "regions": {
      "2ad1450f-a514-46a2-a674-83e43a9df765": {
       "attrs": {
        "height": 0.8,
        "width": 0.8,
        "x": 0.1,
        "y": 0.1
       },
       "content": {
        "cell": "58d58cc4-e6a7-48d5-a596-3e7e20d5667b",
        "part": "whole"
       },
       "id": "2ad1450f-a514-46a2-a674-83e43a9df765"
      }
     }
    },
    "be2852ca-c14f-41c5-9773-f30722838a18": {
     "id": "be2852ca-c14f-41c5-9773-f30722838a18",
     "prev": "dc7091c9-fb36-409e-8535-38df15281f68",
     "regions": {
      "642fa860-c35f-4d91-a937-376982c96bd8": {
       "attrs": {
        "height": 0.8,
        "width": 0.8,
        "x": 0.1,
        "y": 0.1
       },
       "content": {
        "cell": "50512ed3-d9d1-4ee3-baed-17574809ce69",
        "part": "whole"
       },
       "id": "642fa860-c35f-4d91-a937-376982c96bd8"
      }
     }
    },
    "bfe7018a-64b6-4b8f-acca-c9fe86d40ad7": {
     "id": "bfe7018a-64b6-4b8f-acca-c9fe86d40ad7",
     "prev": "18054ea8-abe5-4d4b-b8e5-e876ffda68d6",
     "regions": {
      "2e786bd3-5b2d-44b1-91d6-d78069adeabf": {
       "attrs": {
        "height": 0.8,
        "width": 0.8,
        "x": 0.1,
        "y": 0.1
       },
       "content": {
        "cell": "b2a0fe6c-55fc-4641-8357-5be61b5a4afa",
        "part": "whole"
       },
       "id": "2e786bd3-5b2d-44b1-91d6-d78069adeabf"
      }
     }
    },
    "c3f4234d-e3c0-4250-96f4-e5ba799e2250": {
     "id": "c3f4234d-e3c0-4250-96f4-e5ba799e2250",
     "prev": "75d39d7f-81b0-491e-a112-a6576de1e8d6",
     "regions": {
      "5bea6331-d2a1-40ba-8e33-35acceb4508d": {
       "attrs": {
        "height": 0.8,
        "width": 0.8,
        "x": 0.1,
        "y": 0.1
       },
       "content": {
        "cell": "38cd17b3-3549-4751-8dd8-021377ef0e46",
        "part": "whole"
       },
       "id": "5bea6331-d2a1-40ba-8e33-35acceb4508d"
      }
     }
    },
    "dc7091c9-fb36-409e-8535-38df15281f68": {
     "id": "dc7091c9-fb36-409e-8535-38df15281f68",
     "prev": "ed3a91ed-20ca-48b5-93f2-7bbf050b0f0e",
     "regions": {
      "7d0f7619-a0c8-468d-8795-1262a01b036e": {
       "attrs": {
        "height": 0.8,
        "width": 0.8,
        "x": 0.1,
        "y": 0.1
       },
       "content": {
        "cell": "a1d189f6-a2b7-4c09-9f25-fbd8bc03ffac",
        "part": "whole"
       },
       "id": "7d0f7619-a0c8-468d-8795-1262a01b036e"
      }
     }
    },
    "e82d3ac0-f80a-4b7a-8373-93ded9375d25": {
     "id": "e82d3ac0-f80a-4b7a-8373-93ded9375d25",
     "prev": "c3f4234d-e3c0-4250-96f4-e5ba799e2250",
     "regions": {
      "1072104d-0af3-4f37-81d5-16ca540a4854": {
       "attrs": {
        "height": 0.8,
        "width": 0.8,
        "x": 0.1,
        "y": 0.1
       },
       "content": {
        "cell": "3d989c5e-d9f1-4da4-bd21-4071747aca22",
        "part": "whole"
       },
       "id": "1072104d-0af3-4f37-81d5-16ca540a4854"
      }
     }
    },
    "ed3a91ed-20ca-48b5-93f2-7bbf050b0f0e": {
     "id": "ed3a91ed-20ca-48b5-93f2-7bbf050b0f0e",
     "prev": "50ac0fe7-77c0-4350-b613-8176a00fa7de",
     "regions": {
      "f2345e32-86a1-4a51-bcdb-5a0947f39644": {
       "attrs": {
        "height": 0.8,
        "width": 0.8,
        "x": 0.1,
        "y": 0.1
       },
       "content": {
        "cell": "626e5d29-7476-4020-8adf-a291484c8599",
        "part": "whole"
       },
       "id": "f2345e32-86a1-4a51-bcdb-5a0947f39644"
      }
     }
    },
    "fa1d9c40-7a1c-4175-85d3-625a742405a0": {
     "id": "fa1d9c40-7a1c-4175-85d3-625a742405a0",
     "prev": "bfe7018a-64b6-4b8f-acca-c9fe86d40ad7",
     "regions": {
      "c0b0b6f9-3a94-4823-8628-a084378df0c8": {
       "attrs": {
        "height": 0.8,
        "width": 0.8,
        "x": 0.1,
        "y": 0.1
       },
       "content": {
        "cell": "d0391a3d-eadb-4336-a6de-59c3b848fc68",
        "part": "whole"
       },
       "id": "c0b0b6f9-3a94-4823-8628-a084378df0c8"
      }
     }
    }
   },
   "themes": {}
  }
 },
 "nbformat": 4,
 "nbformat_minor": 0
}
