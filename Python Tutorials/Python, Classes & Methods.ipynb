{
 "cells": [
  {
   "cell_type": "markdown",
   "metadata": {},
   "source": [
    "# Python: Classes, & Methods\n",
    "## by Tyler Roberts \\- tjroberts2@wisc.edu"
   ]
  },
  {
   "cell_type": "markdown",
   "metadata": {},
   "source": [
    "# Object Oriented Programming\n",
    "- Object Oriented Programming (OOP) is a style of programming which further decomposes your code into discrete, interacting objects.\n",
    "- By interacting with discrete objects, we don’t need to deal with the underlying complexity within the objects.\n",
    "- A dictionary is an object which has a lot of complexity happening behind the scenes, but this is abstracted to you with things such as methods. This design paradigm is called *encapsulation*."
   ]
  },
  {
   "cell_type": "markdown",
   "metadata": {},
   "source": [
    "# Philosophy of OOP\n",
    "- Object Oriented Programming is based on the idea of instantiating objects that are of a certain class.\n",
    "- A class describes a set of objects that have the same behavior. An object’s *class* defines the behavior of that object.\n",
    "- For example, all dictionaries behave the same way, and the way in which they behave are defined by the dictionary *class*.\n",
    "- We are able to have many instantiations of a dictionary type, these instantiations are called *objects*.\n",
    "- A class **defines** an object's interface."
   ]
  },
  {
   "cell_type": "code",
   "execution_count": null,
   "metadata": {
    "collapsed": true
   },
   "outputs": [],
   "source": [
    "# A Simple Class\n",
    "class Person:                                   # Constructor\n",
    "    def __init__(self, name, job=None, pay=0):  # - initializes an object when it's created.\n",
    "        self.name = name                        # - automatically called when an object is\n",
    "        self.job  = job                         #   created.\n",
    "        self.pay  = pay\n",
    "                                      # Class Methods\n",
    "    def lastName(self):               # - Wraps up operation logic behind interfaces, such\n",
    "        return self.name.split()[-1]  #   that each operation is coded only once (encapsulation)\n",
    "                                      # - Code lives within the method pertaining to its \n",
    "    def giveRaise(self, percent):     #   relavant class, instead of littered throughout\n",
    "        self.pay *= (1 + percent)     #   the program."
   ]
  },
  {
   "cell_type": "markdown",
   "metadata": {},
   "source": [
    "# self\n",
    "- special argument passed to methods coded inside of classes.\n",
    "- In order for an object to refer to itself, *'self'* is used as a reference variable *within* a class that points to itself.\n",
    "- A class' instance variables can be referenced as a field of the *self* variable."
   ]
  },
  {
   "cell_type": "markdown",
   "metadata": {},
   "source": [
    "# Polymorphism\n",
    "- The meaning of an operation depends on the objects being operated on.\n",
    "- We have seen this before with the multiplication operator \\*: \n",
    "  - 3\\*4 = 12, 3\\*'Derp' = 'DerpDerpDerp'\n",
    "- Polymorphism is closely related to inheritance. When inheriting fields and methods, we have the option to *override* their meanings so that the same methods and fields may behave differently based on which object in an inheritance hierarchy we are dealing with.\n"
   ]
  },
  {
   "cell_type": "markdown",
   "metadata": {},
   "source": [
    "# Class Built-In Methods (partial list)\n",
    "- \\__dict\\__\n",
    "- \\__ge\\__\n",
    "- \\__str\\__\n",
    "- \\__add\\__\n",
    "- \\__iadd\\__\n",
    "- \\__repr\\__\n",
    "- \\__init\\__"
   ]
  },
  {
   "cell_type": "code",
   "execution_count": 1,
   "metadata": {
    "collapsed": false
   },
   "outputs": [],
   "source": [
    "# Person Class Revisited\n",
    "class Person:\n",
    "    def __init__(self, name, job=None, pay=0):\n",
    "        self.name = name\n",
    "        self.job  = job\n",
    "        self.pay  = pay\n",
    "\n",
    "    def lastName(self):\n",
    "        return self.name.split()[-1]\n",
    "\n",
    "    def giveRaise(self, percent):\n",
    "        self.pay *= (1 + percent)\n",
    "        \n",
    "    # Operator Overloading (Polymorphism in action)\n",
    "    def __gt__(self, other):\n",
    "        return self.pay > other.pay\n",
    "    \n",
    "    def __lt__(self, other):\n",
    "        return self.pay < other.pay\n",
    "    \n",
    "    def __eq__(self, other):\n",
    "        return self.pay == other.pay\n",
    "        \n",
    "    def __add__(self, other):\n",
    "        # Create a new person object, and return it\n",
    "        return Person(name = self.name + ' & ' + other.name, pay = self.pay + other.pay)\n",
    "    \n",
    "    def __repr__(self):\n",
    "        return 'Name: {}\\nJob: {}\\nPay: {}'.format(self.name, self.job, self.pay)"
   ]
  },
  {
   "cell_type": "code",
   "execution_count": null,
   "metadata": {
    "collapsed": false
   },
   "outputs": [],
   "source": [
    "# Practice with Person class here"
   ]
  },
  {
   "cell_type": "markdown",
   "metadata": {},
   "source": [
    "# Inheritence\n",
    "- The relationship between a more general class (called the superclass) and a more specialized class (called the subclass).\n",
    "- The subclass *inherits* data and behaviour from the superclass.\n",
    "- In many application domains, you can fetch or purchase collections of super-classes, known as *'frameworks'*, that implement common programming tasks as classes, ready to be mixed into your applications.\n",
    "- OOP is all about code reuse."
   ]
  },
  {
   "cell_type": "markdown",
   "metadata": {},
   "source": [
    "# Inheritance cont.\n",
    "- Python allows a class to inherit from multiple super-classes,\n",
    " - subClass(superClass1, superClass2) # And so on, can add as many super-classes as you want.\n",
    "- When referencing a field or method, Python searches from **top to bottom**, and **left to right**.\n",
    "- Ex. Given the classes C1, C2, C3, & C4, with the following inheritance defined:\n",
    " - class C1, class C2, class C3(C1, C2), class C4(C3)\n",
    " - obj1 = C1(), obj2 = C3()\n",
    "- We get the following inheritance tree as shown below."
   ]
  },
  {
   "cell_type": "code",
   "execution_count": 1,
   "metadata": {
    "collapsed": false
   },
   "outputs": [
    {
     "data": {
      "image/png": "[encoded data removed]",
      "text/plain": [
       "<IPython.core.display.Image object>"
      ]
     },
     "execution_count": 1,
     "metadata": {},
     "output_type": "execute_result"
    }
   ],
   "source": [
    "from IPython.display import Image\n",
    "Image(filename='inheritanceImage.png')"
   ]
  },
  {
   "cell_type": "markdown",
   "metadata": {},
   "source": [
    "# Attribute Inheritance Search\n",
    "- *object.attribute* - How to access any attribute of an object that's defined in the class.\n",
    "- Getters & Setters are *not* Pythonic. Access and change object fields directly.\n",
    "- **PYTHONIC**\n",
    " - \\>> derp = Person('Peter')\n",
    " - \\>> print derp.name\n",
    " - Peter\n",
    " - \\>> derp.name = 'James'\n",
    " - \\>> print derp.name\n",
    " - James\n",
    "\n",
    "- **NOT PYTHONIC**\n",
    " - \\>> derp = Person('Peter')\n",
    " - \\>> print derp.getName()\n",
    " - Peter\n",
    " - \\>> derp.setName('James')\n",
    " - \\>> print derp.getName()\n",
    " - James\n",
    "\n",
    "- When an object inherits from one or more super classes, and you call *object.attribute*, Python will search for *attribute* from **bottom to top**, and **left to right** within the inheritance tree explained previously."
   ]
  },
  {
   "cell_type": "code",
   "execution_count": null,
   "metadata": {
    "collapsed": true
   },
   "outputs": [],
   "source": [
    "class GradStudent(Person):\n",
    "    # Static Variable\n",
    "    numInstances = 0\n",
    "    def __init__(self, name, job='TA', pay=0, areaOfStudy = 'Plasma'):\n",
    "        # Inheritance, call the super-class's constructor\n",
    "        Person.__init__(self, name, job, pay)\n",
    "        self.areaOfStudy = areaOfStudy\n",
    "        GradStudent.makeInstance()\n",
    "\n",
    "    @property\n",
    "    def timeLeft(self):\n",
    "        if self.areaOfStudy in ['Plasma', 'Nuclear']:\n",
    "            base = 9\n",
    "        elif self.areaOfStudy in ['High Energy', 'Atomic']:\n",
    "            base = 7\n",
    "        else:\n",
    "            base = 5\n",
    "        reduce = 2 if self.job == 'TA' else 4\n",
    "        return base - reduce\n",
    "\n",
    "    # Polymorphism\n",
    "    def giveRaise(self, percent):\n",
    "        return Person.giveRaise(self, percent * 0.9)\n",
    "\n",
    "    @staticmethod\n",
    "    def makeInstance():\n",
    "        GradStudent.numInstances += 1\n",
    "        print('Created {} instances of GradStudent'.format(GradStudent.numInstances))\n",
    "        "
   ]
  },
  {
   "cell_type": "code",
   "execution_count": null,
   "metadata": {
    "collapsed": true
   },
   "outputs": [],
   "source": [
    "# Practice with GradStudent class here"
   ]
  }
 ],
 "metadata": {
  "anaconda-cloud": {},
  "kernelspec": {
   "display_name": "Python [Root]",
   "language": "python",
   "name": "Python [Root]"
  },
  "language_info": {
   "codemirror_mode": {
    "name": "ipython",
    "version": 3
   },
   "file_extension": ".py",
   "mimetype": "text/x-python",
   "name": "python",
   "nbconvert_exporter": "python",
   "pygments_lexer": "ipython3",
   "version": "3.5.2"
  }
 },
 "nbformat": 4,
 "nbformat_minor": 0
}
